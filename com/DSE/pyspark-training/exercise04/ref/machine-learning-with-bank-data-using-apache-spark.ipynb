{
 "cells": [
  {
   "cell_type": "markdown",
   "metadata": {},
   "source": [
    "## Apache Spark : The Unified Analytics Engine\n",
    "\n",
    "The largest open source project in data processing framework that can do ETL, analytics, machine learning and graph processing on large volumes of data at rest (batch processing) or in motion (streaming processing) with rich high-level APIs for the programming languages like Scala, Python, Java and R.\n",
    "\n",
    "Spark has seen immense growth over the past several years. Hundreds of contributors working collectively have made Spark an amazing piece of technology powering the de facto standard for big data processing and data sciences across all industries.\n",
    "\n",
    "Internet powerhouses such as Netflix, Yahoo, and eBay have deployed Spark at massive scale, collectively processing multiple petabytes of data on clusters of over 8,000 nodes."
   ]
  },
  {
   "cell_type": "markdown",
   "metadata": {},
   "source": [
    "## Why Spark ?\n",
    "\n",
    "Typically when you think of a computer you think about one machine sitting on your desk at home or at work. This machine works perfectly well for applying machine learning on small dataset . However, when you have huge dataset(in tera bytes or giga bytes), there are some things that your computer is not powerful enough to perform. One particularly challenging area is data processing. Single machines do not have enough power and resources to perform computations on huge amounts of information (or you may have to wait for the computation to finish).\n",
    "\n",
    "A cluster, or group of machines, pools the resources of many machines together allowing us to use all the cumulative resources as if they were one. Now a group of machines alone is not powerful, you need a framework to coordinate work across them. Spark is a tool for just that, managing and coordinating the execution of tasks on data across a cluster of computers."
   ]
  },
  {
   "cell_type": "markdown",
   "metadata": {},
   "source": [
    "## Spark Architecture\n",
    "\n",
    "Apache Spark allows you to treat many machines as one machine and this is done via a master-worker type architecture where there is a driver or master node in the cluster, accompanied by worker nodes. The master sends work to the workers and either instructs them to pull to data from memory or from disk (or from another data source).\n",
    "\n",
    "**Read more about Architecture**\n",
    "\n",
    "https://spark.apache.org/docs/latest/cluster-overview.html"
   ]
  },
  {
   "cell_type": "markdown",
   "metadata": {},
   "source": [
    "## Bank Marketing - Data Exploration, transformation & Modeling\n",
    "I am using freely available databricks stand alone community edition server (https://community.cloud.databricks.com) as Spark library currently not available in Kaggle directly.\n",
    "\n",
    "The below are the summary of this exercise:\n",
    "\n",
    "1. Read this dataset in pyspark, say, as df \n",
    "2. Carry out the folowing operations on df :\n",
    "\n",
    "\ta) Cache this dataset\n",
    "\tb) Show first 5 rows\n",
    "\tc) Count number of rows\n",
    "\td) Print its data structure\n",
    "\n",
    "3. From this dataset, select just the following columns and overwrite  the previous dataframe, df :\n",
    "\n",
    "['age', 'job', 'marital', 'education', 'default',  'balance', \n",
    "'housing', 'loan', 'contact', 'duration',  'campaign',\n",
    " 'pdays', 'previous', 'poutcome', 'deposit']\n",
    "\n",
    "4. The list of categorical columns is as follows:\n",
    "\n",
    "catCols = ['job', 'marital', 'education', 'default',\n",
    "                     'housing', 'loan', 'contact', 'poutcome']\n",
    "\n",
    "Create a pipeline to transform each one of the categorical\n",
    "columns to as many Onehotencoded columns\tby first using\n",
    " StringIndexer and then OneHotEncoder. \n",
    "\n",
    "5. Use VectorAssembler to aseemble all the OneHotEncoded columns and the following numerical columns in one column. Call this new assembled column as: 'rawFeatures' :\n",
    "\n",
    "numericCols = ['age', 'balance', 'duration',  'campaign', 'pdays', 'previous']\n",
    "\n",
    "6. Print the 'rawFeatures' column\n",
    "\n",
    "Here is Spark code for LogisticRegression, DecisionTreeClassifier, RandomForestClassifier, Gradient-boosted tree classifier, NaiveBayes & Support Vector Machine on Bank marketing dataset\n",
    "\n",
    "*Databricks Notebook :*\n",
    "\n",
    "https://databricks-prod-cloudfront.cloud.databricks.com/public/4027ec902e239c93eaaa8714f173bcfc/7066241366603179/2873197913727922/4729409196487951/latest.html\n"
   ]
  },
  {
   "cell_type": "markdown",
   "metadata": {},
   "source": [
    "**How to increase accuracy of a model ?**\n",
    "\n",
    "\n",
    "* Add new features or drop existing features and train model.\n",
    "* Tune ML algorithm (https://spark.apache.org/docs/latest/ml-tuning.html)"
   ]
  },
  {
   "cell_type": "markdown",
   "metadata": {},
   "source": [
    "## Reference\n",
    "\n",
    "https://docs.databricks.com/spark/latest/gentle-introduction/gentle-intro.html\n",
    "\n",
    "https://docs.databricks.com/spark/latest/gentle-introduction/gentle-intro.html#gentle-introduction-to-apache-spark\n",
    "\n",
    "https://docs.databricks.com/spark/latest/gentle-introduction/for-data-scientists.html"
   ]
  },
  {
   "cell_type": "markdown",
   "metadata": {},
   "source": []
  }
 ],
 "metadata": {
  "kernelspec": {
   "display_name": "Python 3",
   "language": "python",
   "name": "python3"
  },
  "language_info": {
   "codemirror_mode": {
    "name": "ipython",
    "version": 3
   },
   "file_extension": ".py",
   "mimetype": "text/x-python",
   "name": "python",
   "nbconvert_exporter": "python",
   "pygments_lexer": "ipython3",
   "version": "3.6.6"
  }
 },
 "nbformat": 4,
 "nbformat_minor": 1
}
